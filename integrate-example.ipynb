{
 "cells": [
  {
   "cell_type": "code",
   "execution_count": 17,
   "metadata": {
    "tags": [
     "integral"
    ]
   },
   "outputs": [
    {
     "name": "stdout",
     "output_type": "stream",
     "text": [
      "indefinite integral: -5 + 6*log(6) \n",
      "result: 5.750556815368327\n"
     ]
    }
   ],
   "source": [
    "# Florian Thiévent, 2020, Introduction to Analysis, University of Applied Sciences of northwestern Switzerland\n",
    "\n",
    "from sympy import *\n",
    "from sympy.solvers import solve\n",
    "import scipy.integrate \n",
    "import numpy as np\n",
    "\n",
    "init_printing()\n",
    "x = Symbol('x')\n",
    "\n",
    "integrate(ln(x), (x,1,6))\n",
    "\n",
    "print(\"indefinite integral: %s \" % integrate(ln(x), (x,1,6)))\n",
    "\n",
    "\n",
    "f = lambda x: ln(x)\n",
    "i = scipy.integrate.quad(f, 1,6)\n",
    "print(\"result: %s\" % i[0]) #Print only first Object as result, second is the absolute error "
   ]
  },
  {
   "cell_type": "code",
   "execution_count": null,
   "metadata": {},
   "outputs": [],
   "source": []
  }
 ],
 "metadata": {
  "celltoolbar": "Tags",
  "kernelspec": {
   "display_name": "Python 3",
   "language": "python",
   "name": "python3"
  },
  "language_info": {
   "codemirror_mode": {
    "name": "ipython",
    "version": 3
   },
   "file_extension": ".py",
   "mimetype": "text/x-python",
   "name": "python",
   "nbconvert_exporter": "python",
   "pygments_lexer": "ipython3",
   "version": "3.7.7"
  }
 },
 "nbformat": 4,
 "nbformat_minor": 4
}
